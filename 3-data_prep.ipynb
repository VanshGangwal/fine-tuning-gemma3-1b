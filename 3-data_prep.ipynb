{
 "cells": [
  {
   "cell_type": "markdown",
   "id": "f4d6223e-b0d5-4d3f-bd02-67cbc8635827",
   "metadata": {},
   "source": [
    "# Data Preparation\n",
    "\n",
    "Code authored by: Shaw Talebi"
   ]
  },
  {
   "cell_type": "markdown",
   "id": "7f5812a8-125f-4b3a-9e73-20002cdd9a3b",
   "metadata": {},
   "source": [
    "### imports"
   ]
  },
  {
   "cell_type": "code",
   "execution_count": null,
   "id": "217cb460-78b8-4c26-94ac-272dc27094ff",
   "metadata": {},
   "outputs": [
    {
     "data": {
      "text/plain": [
       "True"
      ]
     },
     "execution_count": 1,
     "metadata": {},
     "output_type": "execute_result"
    }
   ],
   "source": [
    "import pandas as pd\n",
    "from utils.data_prep import add_answer_tags, view_trace, replace_trace_messages\n",
    "from datasets import DatasetDict, Dataset\n",
    "\n",
    "from dotenv import load_dotenv\n",
    "load_dotenv()"
   ]
  },
  {
   "cell_type": "markdown",
   "id": "692b4cdc-bdff-4ba6-9ddf-7ff1244e8afd",
   "metadata": {},
   "source": [
    "### load data"
   ]
  },
  {
   "cell_type": "code",
   "execution_count": 2,
   "id": "950d7d8c-0883-4e0a-94a6-43a8e9676b94",
   "metadata": {},
   "outputs": [],
   "source": [
    "df = pd.read_csv('data/traces.csv')"
   ]
  },
  {
   "cell_type": "code",
   "execution_count": 3,
   "id": "f59eff5e-5ac2-4a25-8ed8-6a9677df64be",
   "metadata": {},
   "outputs": [
    {
     "data": {
      "text/html": [
       "<div>\n",
       "<style scoped>\n",
       "    .dataframe tbody tr th:only-of-type {\n",
       "        vertical-align: middle;\n",
       "    }\n",
       "\n",
       "    .dataframe tbody tr th {\n",
       "        vertical-align: top;\n",
       "    }\n",
       "\n",
       "    .dataframe thead th {\n",
       "        text-align: right;\n",
       "    }\n",
       "</style>\n",
       "<table border=\"1\" class=\"dataframe\">\n",
       "  <thead>\n",
       "    <tr style=\"text-align: right;\">\n",
       "      <th></th>\n",
       "      <th>query</th>\n",
       "      <th>query_type</th>\n",
       "      <th>trace</th>\n",
       "      <th>num_tools_available</th>\n",
       "      <th>tool_needed</th>\n",
       "      <th>tool_name</th>\n",
       "    </tr>\n",
       "  </thead>\n",
       "  <tbody>\n",
       "    <tr>\n",
       "      <th>0</th>\n",
       "      <td>What is the main ingredient in scrambled eggs?</td>\n",
       "      <td>no_tool</td>\n",
       "      <td>[{'role': 'user', 'content': '&lt;instructions&gt;\\n...</td>\n",
       "      <td>10</td>\n",
       "      <td>False</td>\n",
       "      <td>NaN</td>\n",
       "    </tr>\n",
       "    <tr>\n",
       "      <th>1</th>\n",
       "      <td>What are the step-by-step instructions to crea...</td>\n",
       "      <td>no_tool</td>\n",
       "      <td>[{'role': 'user', 'content': '&lt;instructions&gt;\\n...</td>\n",
       "      <td>1</td>\n",
       "      <td>False</td>\n",
       "      <td>NaN</td>\n",
       "    </tr>\n",
       "    <tr>\n",
       "      <th>2</th>\n",
       "      <td>How do you create a lesson plan for a high sch...</td>\n",
       "      <td>no_tool</td>\n",
       "      <td>[{'role': 'user', 'content': '&lt;instructions&gt;\\n...</td>\n",
       "      <td>1</td>\n",
       "      <td>False</td>\n",
       "      <td>NaN</td>\n",
       "    </tr>\n",
       "    <tr>\n",
       "      <th>3</th>\n",
       "      <td>Can you provide step-by-step instructions for ...</td>\n",
       "      <td>no_tool</td>\n",
       "      <td>[{'role': 'user', 'content': '&lt;instructions&gt;\\n...</td>\n",
       "      <td>37</td>\n",
       "      <td>False</td>\n",
       "      <td>NaN</td>\n",
       "    </tr>\n",
       "    <tr>\n",
       "      <th>4</th>\n",
       "      <td>how do i make scrambled eggs step by step (ple...</td>\n",
       "      <td>no_tool</td>\n",
       "      <td>[{'role': 'user', 'content': '&lt;instructions&gt;\\n...</td>\n",
       "      <td>4</td>\n",
       "      <td>False</td>\n",
       "      <td>NaN</td>\n",
       "    </tr>\n",
       "  </tbody>\n",
       "</table>\n",
       "</div>"
      ],
      "text/plain": [
       "                                               query query_type  \\\n",
       "0     What is the main ingredient in scrambled eggs?    no_tool   \n",
       "1  What are the step-by-step instructions to crea...    no_tool   \n",
       "2  How do you create a lesson plan for a high sch...    no_tool   \n",
       "3  Can you provide step-by-step instructions for ...    no_tool   \n",
       "4  how do i make scrambled eggs step by step (ple...    no_tool   \n",
       "\n",
       "                                               trace  num_tools_available  \\\n",
       "0  [{'role': 'user', 'content': '<instructions>\\n...                   10   \n",
       "1  [{'role': 'user', 'content': '<instructions>\\n...                    1   \n",
       "2  [{'role': 'user', 'content': '<instructions>\\n...                    1   \n",
       "3  [{'role': 'user', 'content': '<instructions>\\n...                   37   \n",
       "4  [{'role': 'user', 'content': '<instructions>\\n...                    4   \n",
       "\n",
       "   tool_needed tool_name  \n",
       "0        False       NaN  \n",
       "1        False       NaN  \n",
       "2        False       NaN  \n",
       "3        False       NaN  \n",
       "4        False       NaN  "
      ]
     },
     "execution_count": 3,
     "metadata": {},
     "output_type": "execute_result"
    }
   ],
   "source": [
    "df.head()"
   ]
  },
  {
   "cell_type": "markdown",
   "id": "f7cb7b06-1fbc-4f71-b75b-9d04f73becee",
   "metadata": {},
   "source": [
    "### fix ad hoc issues"
   ]
  },
  {
   "cell_type": "markdown",
   "id": "5b2fc4f3-785f-4f42-bc83-4ec9cba2d8f1",
   "metadata": {},
   "source": [
    "#### add final answer tags"
   ]
  },
  {
   "cell_type": "code",
   "execution_count": 4,
   "id": "cfcddc07-a5ce-4250-a272-0842bf1ee299",
   "metadata": {
    "scrolled": true
   },
   "outputs": [
    {
     "name": "stdout",
     "output_type": "stream",
     "text": [
      "Row 0: adding tags\n",
      "Row 1: adding tags\n",
      "Row 2: adding tags\n",
      "Row 3: adding tags\n",
      "Row 4: adding tags\n",
      "Row 5: adding tags\n",
      "Row 6: adding tags\n",
      "Row 7: adding tags\n",
      "Row 8: adding tags\n",
      "Row 9: adding tags\n",
      "Row 10: adding tags\n",
      "Row 11: adding tags\n",
      "Row 12: adding tags\n",
      "Row 13: adding tags\n",
      "Row 14: adding tags\n",
      "Row 15: adding tags\n",
      "Row 16: adding tags\n",
      "Row 17: adding tags\n",
      "Row 18: adding tags\n",
      "Row 19: adding tags\n",
      "Row 20: adding tags\n",
      "Row 21: adding tags\n",
      "Row 22: adding tags\n",
      "Row 23: adding tags\n",
      "Row 24: adding tags\n",
      "Row 25: adding tags\n",
      "Row 26: adding tags\n",
      "Row 27: adding tags\n",
      "Row 28: adding tags\n",
      "Row 29: adding tags\n",
      "Row 30: adding tags\n",
      "Row 31: adding tags\n",
      "Row 32: adding tags\n",
      "Row 33: adding tags\n",
      "Row 34: adding tags\n",
      "Row 35: adding tags\n",
      "Row 36: adding tags\n",
      "Row 37: adding tags\n",
      "Row 38: adding tags\n",
      "Row 39: adding tags\n",
      "Row 40: adding tags\n",
      "Row 41: adding tags\n",
      "Row 42: adding tags\n",
      "Row 43: adding tags\n",
      "Row 44: adding tags\n",
      "Row 45: adding tags\n",
      "Row 46: adding tags\n",
      "Row 47: adding tags\n",
      "Row 48: adding tags\n",
      "Row 49: adding tags\n",
      "Row 50: adding tags\n",
      "Row 51: adding tags\n",
      "Row 52: adding tags\n",
      "Row 53: adding tags\n",
      "Row 54: adding tags\n",
      "Row 55: adding tags\n",
      "Row 56: adding tags\n",
      "Row 57: adding tags\n",
      "Row 58: adding tags\n",
      "Row 59: adding tags\n",
      "Row 60: adding tags\n",
      "Row 61: adding tags\n",
      "Row 62: adding tags\n",
      "Row 63: adding tags\n",
      "Row 64: adding tags\n",
      "Row 65: adding tags\n",
      "Row 66: adding tags\n",
      "Row 67: adding tags\n",
      "Row 68: adding tags\n",
      "Row 69: adding tags\n",
      "Row 70: adding tags\n",
      "Row 71: adding tags\n",
      "Row 72: adding tags\n",
      "Row 73: adding tags\n",
      "Row 74: adding tags\n",
      "Row 75: adding tags\n",
      "Row 76: adding tags\n",
      "Row 77: adding tags\n",
      "Row 78: adding tags\n",
      "Row 79: adding tags\n",
      "Row 80: adding tags\n",
      "Row 81: adding tags\n",
      "Row 82: adding tags\n",
      "Row 83: adding tags\n",
      "Row 84: adding tags\n",
      "Row 85: adding tags\n",
      "Row 86: adding tags\n",
      "Row 87: adding tags\n",
      "Row 88: adding tags\n",
      "Row 89: adding tags\n",
      "Row 90: adding tags\n",
      "Row 91: adding tags\n",
      "Row 92: adding tags\n",
      "Row 93: adding tags\n",
      "Row 94: adding tags\n",
      "Row 95: adding tags\n",
      "Row 96: adding tags\n",
      "Row 97: adding tags\n",
      "Row 98: adding tags\n",
      "Row 99: adding tags\n",
      "Row 100: adding tags\n",
      "Row 101: adding tags\n",
      "Row 102: adding tags\n",
      "Row 103: adding tags\n",
      "Row 104: adding tags\n",
      "Row 105: adding tags\n",
      "Row 106: adding tags\n",
      "Row 107: adding tags\n",
      "Row 108: adding tags\n",
      "Row 109: adding tags\n",
      "Row 110: adding tags\n",
      "Row 111: adding tags\n",
      "Row 112: adding tags\n",
      "Row 113: adding tags\n",
      "Row 114: adding tags\n",
      "Row 115: adding tags\n",
      "Row 116: adding tags\n",
      "Row 117: adding tags\n",
      "Row 118: adding tags\n",
      "Row 119: adding tags\n",
      "Row 120: adding tags\n",
      "Row 121: adding tags\n",
      "Row 122: adding tags\n",
      "Row 123: adding tags\n",
      "Row 124: adding tags\n",
      "Row 125: adding tags\n",
      "Row 126: adding tags\n",
      "Row 127: adding tags\n",
      "Row 128: adding tags\n",
      "Row 129: adding tags\n",
      "Row 130: adding tags\n",
      "Row 131: adding tags\n",
      "Row 132: adding tags\n",
      "Row 133: adding tags\n",
      "Row 134: adding tags\n",
      "Row 135: adding tags\n",
      "Row 136: adding tags\n",
      "Row 137: adding tags\n",
      "Row 138: adding tags\n",
      "Row 139: adding tags\n",
      "Row 140: adding tags\n",
      "Row 141: adding tags\n",
      "Row 142: adding tags\n",
      "Row 143: adding tags\n",
      "Row 144: adding tags\n",
      "Row 145: adding tags\n",
      "Row 146: adding tags\n",
      "Row 147: adding tags\n",
      "Row 148: adding tags\n",
      "Row 149: adding tags\n",
      "Row 150: adding tags\n",
      "Row 151: adding tags\n",
      "Row 152: adding tags\n",
      "Row 153: adding tags\n",
      "Row 154: adding tags\n",
      "Row 155: adding tags\n",
      "Row 156: adding tags\n",
      "Row 157: adding tags\n",
      "Row 158: adding tags\n",
      "Row 159: adding tags\n",
      "Row 160: adding tags\n",
      "Row 161: adding tags\n",
      "Row 162: adding tags\n",
      "Row 163: adding tags\n",
      "Row 164: adding tags\n",
      "Row 165: adding tags\n",
      "Row 166: adding tags\n",
      "Row 167: adding tags\n",
      "Row 168: adding tags\n",
      "Row 169: adding tags\n",
      "Row 170: adding tags\n",
      "Row 171: adding tags\n",
      "Row 172: adding tags\n",
      "Row 173: adding tags\n",
      "Row 174: adding tags\n",
      "Row 175: adding tags\n",
      "Row 176: adding tags\n",
      "Row 177: adding tags\n",
      "Row 178: adding tags\n",
      "Row 179: adding tags\n",
      "Row 180: adding tags\n",
      "Row 181: adding tags\n",
      "Row 182: adding tags\n",
      "Row 183: adding tags\n",
      "Row 184: adding tags\n",
      "Row 185: adding tags\n",
      "Row 186: adding tags\n",
      "Row 187: adding tags\n",
      "Row 188: adding tags\n",
      "Row 189: adding tags\n",
      "Row 190: adding tags\n",
      "Row 191: adding tags\n",
      "Row 192: adding tags\n",
      "Row 193: adding tags\n",
      "Row 194: adding tags\n",
      "Row 195: adding tags\n",
      "Row 196: adding tags\n",
      "Row 197: adding tags\n",
      "Row 198: adding tags\n",
      "Row 199: adding tags\n",
      "Row 322: adding tags\n",
      "Row 344: adding tags\n",
      "Row 424: adding tags\n",
      "Row 438: adding tags\n",
      "Row 484: adding tags\n",
      "Row 486: adding tags\n",
      "Row 595: adding tags\n"
     ]
    }
   ],
   "source": [
    "# update final responses\n",
    "for idx, trace in enumerate(df['trace']):\n",
    "    df.at[idx, 'trace'] = add_answer_tags(trace, idx)"
   ]
  },
  {
   "cell_type": "markdown",
   "id": "b6ea8416-9f4c-48e4-8d7f-715b358c908d",
   "metadata": {},
   "source": [
    "#### Fix rows: 344, 484, 486, 595"
   ]
  },
  {
   "cell_type": "code",
   "execution_count": 5,
   "id": "939e8b91-c64a-47a6-afef-24229487c78b",
   "metadata": {
    "scrolled": true
   },
   "outputs": [
    {
     "data": {
      "text/plain": [
       "[{'role': 'user',\n",
       "  'content': '<instructions>\\nYou are an AI assistant with access to a set of tools. Your goal is to accurately and helpfully respond to user queries.\\n\\n**Workflow:**\\n\\n1.  **Understand Query:** Analyze the user\\'s request and their intent.\\n2.  **Decide Tool Use:**\\n    * If you can answer directly from your knowledge, do so.\\n    * If external info/action is needed, use a tool.\\n3.  **Select & Argue Tool:** Choose the best tool from `Available Tools` and extract its `input_args` from the query.\\n4.  **Execute Tool (Output Format):**\\n    * **If a tool is needed, output the tool call wrapped in `<tool_call>` tags.**\\n    * **The content within `<tool_call>` MUST be a JSON object.**\\n    * **Format:**\\n        ```xml\\n        <tool_call>\\n        {\\n          \"tool_name\": \"exact_tool_name\",\\n          \"args\": {\\n            \"arg_name1\": \"value1\",\\n            \"arg_name2\": \"value2\"\\n          }\\n        }\\n        </tool_call>\\n        ```\\n5.  **Process Tool Results:**\\n    * **The results of the tool execution will be provided to you wrapped in `<tool_result>` tags, containing plain text.**\\n    * Carefully interpret these results to fully answer the original user query.\\n6.  **Formulate Final Response:** Your final response must be enclosed in `<final_answer>` tags. Inside these tags, provide a clear, comprehensive answer. Explain tool usage if applicable, and always address any errors gracefully if the tool reported one.\\n    *   **Example:**\\n        ```xml\\n        <final_answer>\\n        Your detailed response to the user.\\n        </final_answer>\\n        ```\\n</instructions>\\n\\n<tools>\\n[\\n  {\\n    \"tool_name\": \"set_reminder\",\\n    \"description\": \"Set a reminder for a task.\",\\n    \"input_args\": {\\n      \"message\": \"string - Reminder message.\",\\n      \"datetime_str\": \"string - Datetime for the reminder in ISO format.\"\\n    }\\n  },\\n  {\\n    \"tool_name\": \"calculator\",\\n    \"description\": \"Perform basic arithmetic calculations.\",\\n    \"input_args\": {\\n      \"expression\": \"string - Arithmetic expression to evaluate.\"\\n    }\\n  },\\n  {\\n    \"tool_name\": \"get_weekday_from_date\",\\n    \"description\": \"Get the weekday from a given date in YYYY-MM-DD format.\",\\n    \"input_args\": {\\n      \"date\": \"string - Date in YYYY-MM-DD format.\"\\n    }\\n  }\\n]\\n</tools>'},\n",
       " {'role': 'user', 'content': 'What is 120 divided by 8 plus 7?'},\n",
       " {'role': 'assistant',\n",
       "  'content': '<tool_call>\\n{\\n  \"tool_name\": \"calculator\",\\n  \"args\": {\\n    \"expression\": \"120 / 8 + 7\"\\n  }\\n}\\n</tool_call>'},\n",
       " {'role': 'user', 'content': '<tool_result>\\n22.0\\n</tool_result>'},\n",
       " {'role': 'assistant',\n",
       "  'content': '<final_answer>\\n75 divided by 8 22.0\\n</final_answer>'}]"
      ]
     },
     "execution_count": 5,
     "metadata": {},
     "output_type": "execute_result"
    }
   ],
   "source": [
    "# row 344\n",
    "new_final_response = \"\"\"<final_answer>\n",
    "75 divided by 8 22.0\n",
    "</final_answer>\"\"\"\n",
    "\n",
    "replace_trace_messages(df, 344, [{'index': 4, 'role': 'assistant', 'content': new_final_response}])"
   ]
  },
  {
   "cell_type": "code",
   "execution_count": 6,
   "id": "5e3c60f8-0517-4566-8511-5dd092ad5831",
   "metadata": {
    "scrolled": true
   },
   "outputs": [
    {
     "data": {
      "text/plain": [
       "[{'role': 'user',\n",
       "  'content': '<instructions>\\nYou are an AI assistant with access to a set of tools. Your goal is to accurately and helpfully respond to user queries.\\n\\n**Workflow:**\\n\\n1.  **Understand Query:** Analyze the user\\'s request and their intent.\\n2.  **Decide Tool Use:**\\n    * If you can answer directly from your knowledge, do so.\\n    * If external info/action is needed, use a tool.\\n3.  **Select & Argue Tool:** Choose the best tool from `Available Tools` and extract its `input_args` from the query.\\n4.  **Execute Tool (Output Format):**\\n    * **If a tool is needed, output the tool call wrapped in `<tool_call>` tags.**\\n    * **The content within `<tool_call>` MUST be a JSON object.**\\n    * **Format:**\\n        ```xml\\n        <tool_call>\\n        {\\n          \"tool_name\": \"exact_tool_name\",\\n          \"args\": {\\n            \"arg_name1\": \"value1\",\\n            \"arg_name2\": \"value2\"\\n          }\\n        }\\n        </tool_call>\\n        ```\\n5.  **Process Tool Results:**\\n    * **The results of the tool execution will be provided to you wrapped in `<tool_result>` tags, containing plain text.**\\n    * Carefully interpret these results to fully answer the original user query.\\n6.  **Formulate Final Response:** Your final response must be enclosed in `<final_answer>` tags. Inside these tags, provide a clear, comprehensive answer. Explain tool usage if applicable, and always address any errors gracefully if the tool reported one.\\n    *   **Example:**\\n        ```xml\\n        <final_answer>\\n        Your detailed response to the user.\\n        </final_answer>\\n        ```\\n</instructions>\\n\\n<tools>\\n[\\n  {\\n    \"tool_name\": \"set_reminder\",\\n    \"description\": \"Set a reminder for a task.\",\\n    \"input_args\": {\\n      \"message\": \"string - Reminder message.\",\\n      \"datetime_str\": \"string - Datetime for the reminder in ISO format.\"\\n    }\\n  },\\n  {\\n    \"tool_name\": \"calculator\",\\n    \"description\": \"Perform basic arithmetic calculations.\",\\n    \"input_args\": {\\n      \"expression\": \"string - Arithmetic expression to evaluate.\"\\n    }\\n  },\\n  {\\n    \"tool_name\": \"get_weekday_from_date\",\\n    \"description\": \"Get the weekday from a given date in YYYY-MM-DD format.\",\\n    \"input_args\": {\\n      \"date\": \"string - Date in YYYY-MM-DD format.\"\\n    }\\n  }\\n]\\n</tools>'},\n",
       " {'role': 'user', 'content': 'What is 120 divided by 8 plus 7?'},\n",
       " {'role': 'assistant',\n",
       "  'content': '<tool_call>\\n{\\n  \"tool_name\": \"calculator\",\\n  \"args\": {\\n    \"expression\": \"120 / 8 + 7\"\\n  }\\n}\\n</tool_call>'},\n",
       " {'role': 'user', 'content': '<tool_result>\\n22.0\\n</tool_result>'},\n",
       " {'role': 'assistant',\n",
       "  'content': '<final_answer>\\nThe Unix timestamp for 2002-11-25 is 1038204000.\\n</final_answer>'}]"
      ]
     },
     "execution_count": 6,
     "metadata": {},
     "output_type": "execute_result"
    }
   ],
   "source": [
    "# Row 484\n",
    "new_final_response = \"\"\"<final_answer>\n",
    "The Unix timestamp for 2002-11-25 is 1038204000.\n",
    "</final_answer>\"\"\"\n",
    "\n",
    "replace_trace_messages(df, 344, [{'index': 4, 'role': 'assistant', 'content': new_final_response}])"
   ]
  },
  {
   "cell_type": "code",
   "execution_count": 7,
   "id": "e203c4bb-7c54-4c96-bf8a-0f0473b82d02",
   "metadata": {
    "scrolled": true
   },
   "outputs": [
    {
     "data": {
      "text/plain": [
       "[{'role': 'user',\n",
       "  'content': '<instructions>\\nYou are an AI assistant with access to a set of tools. Your goal is to accurately and helpfully respond to user queries.\\n\\n**Workflow:**\\n\\n1.  **Understand Query:** Analyze the user\\'s request and their intent.\\n2.  **Decide Tool Use:**\\n    * If you can answer directly from your knowledge, do so.\\n    * If external info/action is needed, use a tool.\\n3.  **Select & Argue Tool:** Choose the best tool from `Available Tools` and extract its `input_args` from the query.\\n4.  **Execute Tool (Output Format):**\\n    * **If a tool is needed, output the tool call wrapped in `<tool_call>` tags.**\\n    * **The content within `<tool_call>` MUST be a JSON object.**\\n    * **Format:**\\n        ```xml\\n        <tool_call>\\n        {\\n          \"tool_name\": \"exact_tool_name\",\\n          \"args\": {\\n            \"arg_name1\": \"value1\",\\n            \"arg_name2\": \"value2\"\\n          }\\n        }\\n        </tool_call>\\n        ```\\n5.  **Process Tool Results:**\\n    * **The results of the tool execution will be provided to you wrapped in `<tool_result>` tags, containing plain text.**\\n    * Carefully interpret these results to fully answer the original user query.\\n6.  **Formulate Final Response:** Your final response must be enclosed in `<final_answer>` tags. Inside these tags, provide a clear, comprehensive answer. Explain tool usage if applicable, and always address any errors gracefully if the tool reported one.\\n    *   **Example:**\\n        ```xml\\n        <final_answer>\\n        Your detailed response to the user.\\n        </final_answer>\\n        ```\\n</instructions>\\n\\n<tools>\\n[\\n  {\\n    \"tool_name\": \"get_unix_timestamp\",\\n    \"description\": \"Convert a date to a Unix timestamp in YYYY-MM-DD format.\",\\n    \"input_args\": {\\n      \"date\": \"string - Date in YYYY-MM-DD format.\"\\n    }\\n  }\\n]\\n</tools>'},\n",
       " {'role': 'user',\n",
       "  'content': 'i got a date like 2023-17-12 ... can u tell me the unix stamp for it?'},\n",
       " {'role': 'assistant',\n",
       "  'content': 'You want to convert the date \"2023-17-12\" to a Unix timestamp. However, that is not a valid date.\\nI will assume you meant December 17, 2023 and use the get_unix_timestamp tool to perform this conversion.\\n<tool_call>\\n{\\n  \"tool_name\": \"get_unix_timestamp\",\\n  \"args\": {\\n    \"date\": \"2023-12-17\"\\n  }\\n}\\n</tool_call>'},\n",
       " {'role': 'user', 'content': '<tool_result>\\n1702792800\\n</tool_result>'},\n",
       " {'role': 'assistant',\n",
       "  'content': '<final_answer>\\nThe Unix timestamp for 2023-12-17 is 1702792800.\\n</final_answer>'}]"
      ]
     },
     "execution_count": 7,
     "metadata": {},
     "output_type": "execute_result"
    }
   ],
   "source": [
    "# Row 486\n",
    "new_response = \"\"\"You want to convert the date \"2023-17-12\" to a Unix timestamp. However, that is not a valid date.\n",
    "I will assume you meant December 17, 2023 and use the get_unix_timestamp tool to perform this conversion.\n",
    "<tool_call>\n",
    "{\n",
    "  \"tool_name\": \"get_unix_timestamp\",\n",
    "  \"args\": {\n",
    "    \"date\": \"2023-12-17\"\n",
    "  }\n",
    "}\n",
    "</tool_call>\"\"\"\n",
    "\n",
    "new_tool_result = \"\"\"<tool_result>\n",
    "1702792800\n",
    "</tool_result>\"\"\"\n",
    "\n",
    "new_final_response = \"\"\"<final_answer>\n",
    "The Unix timestamp for 2023-12-17 is 1702792800.\n",
    "</final_answer>\"\"\"\n",
    "\n",
    "replace_trace_messages(df, 486, [{'index': 2, 'role': 'assistant', 'content': new_response}, \n",
    "                                {'index': 3, 'role': 'user', 'content': new_tool_result},\n",
    "                                {'index': 4, 'role': 'assistant', 'content': new_final_response},])"
   ]
  },
  {
   "cell_type": "code",
   "execution_count": 8,
   "id": "f58f1ddb-704e-4daf-bcec-b86d4fe9f4b9",
   "metadata": {
    "scrolled": true
   },
   "outputs": [
    {
     "data": {
      "text/plain": [
       "[{'role': 'user',\n",
       "  'content': '<instructions>\\nYou are an AI assistant with access to a set of tools. Your goal is to accurately and helpfully respond to user queries.\\n\\n**Workflow:**\\n\\n1.  **Understand Query:** Analyze the user\\'s request and their intent.\\n2.  **Decide Tool Use:**\\n    * If you can answer directly from your knowledge, do so.\\n    * If external info/action is needed, use a tool.\\n3.  **Select & Argue Tool:** Choose the best tool from `Available Tools` and extract its `input_args` from the query.\\n4.  **Execute Tool (Output Format):**\\n    * **If a tool is needed, output the tool call wrapped in `<tool_call>` tags.**\\n    * **The content within `<tool_call>` MUST be a JSON object.**\\n    * **Format:**\\n        ```xml\\n        <tool_call>\\n        {\\n          \"tool_name\": \"exact_tool_name\",\\n          \"args\": {\\n            \"arg_name1\": \"value1\",\\n            \"arg_name2\": \"value2\"\\n          }\\n        }\\n        </tool_call>\\n        ```\\n5.  **Process Tool Results:**\\n    * **The results of the tool execution will be provided to you wrapped in `<tool_result>` tags, containing plain text.**\\n    * Carefully interpret these results to fully answer the original user query.\\n6.  **Formulate Final Response:** Your final response must be enclosed in `<final_answer>` tags. Inside these tags, provide a clear, comprehensive answer. Explain tool usage if applicable, and always address any errors gracefully if the tool reported one.\\n    *   **Example:**\\n        ```xml\\n        <final_answer>\\n        Your detailed response to the user.\\n        </final_answer>\\n        ```\\n</instructions>\\n\\n<tools>\\n[\\n  {\\n    \"tool_name\": \"generate_password\",\\n    \"description\": \"Generate a random password.\",\\n    \"input_args\": {\\n      \"length\": \"integer - Length of the password to generate.\",\\n      \"use_symbols\": \"boolean - Include symbols if true.\",\\n      \"use_numbers\": \"boolean - Include numbers if true.\",\\n      \"use_uppercase\": \"boolean - Include uppercase letters if true.\"\\n    }\\n  },\\n  {\\n    \"tool_name\": \"char_count\",\\n    \"description\": \"Count the number of specific characters in a text.\",\\n    \"input_args\": {\\n      \"text\": \"string - Input text.\",\\n      \"character\": \"string - Specific character to count (e.g., \\'r\\', \\'a\\', \\' \\').\"\\n    }\\n  },\\n  {\\n    \"tool_name\": \"add_to_todo_list\",\\n    \"description\": \"Add a task to the to-do list.\",\\n    \"input_args\": {\\n      \"task\": \"string - Description of the task.\"\\n    }\\n  },\\n  {\\n    \"tool_name\": \"convert_bases\",\\n    \"description\": \"Convert a number from one base to another.\",\\n    \"input_args\": {\\n      \"number\": \"string - Number as a string.\",\\n      \"from_base\": \"integer - Base of the input number.\",\\n      \"to_base\": \"integer - Base to convert to.\"\\n    }\\n  },\\n  {\\n    \"tool_name\": \"calculate_date_diff\",\\n    \"description\": \"Calculate the difference in days between two dates in YYYY-MM-DD format.\",\\n    \"input_args\": {\\n      \"start_date\": \"string - Start date in YYYY-MM-DD format.\",\\n      \"end_date\": \"string - End date in YYYY-MM-DD format.\"\\n    }\\n  },\\n  {\\n    \"tool_name\": \"get_unix_timestamp\",\\n    \"description\": \"Convert a date to a Unix timestamp in YYYY-MM-DD format.\",\\n    \"input_args\": {\\n      \"date\": \"string - Date in YYYY-MM-DD format.\"\\n    }\\n  },\\n  {\\n    \"tool_name\": \"add_days_to_date\",\\n    \"description\": \"Add a number of days to a given date in YYYY-MM-DD format.\",\\n    \"input_args\": {\\n      \"date\": \"string - Starting date in YYYY-MM-DD format.\",\\n      \"days\": \"integer - Number of days to add.\"\\n    }\\n  },\\n  {\\n    \"tool_name\": \"notion_search\",\\n    \"description\": \"Search for pages in a Notion workspace.\",\\n    \"input_args\": {\\n      \"query\": \"string - Search query string to find Notion pages.\"\\n    }\\n  },\\n  {\\n    \"tool_name\": \"retrieve_data\",\\n    \"description\": \"Retrieve information from a local company knowledge base. Search examples - \\\\\"password reset\\\\\" -> Password reset procedures, \\\\\"new employee onboarding\\\\\" -> Onboarding checklist, \\\\\"expense reimbursement\\\\\" -> Expense policy, \\\\\"API documentation\\\\\" -> Technical guides\",\\n    \"input_args\": {\\n      \"query\": \"string - Query or keywords for retrieval.\"\\n    }\\n  },\\n  {\\n    \"tool_name\": \"fetch_crypto_price\",\\n    \"description\": \"Fetch the current price of a cryptocurrency. Available symbols: BTC, ETH, ADA, DOT.\",\\n    \"input_args\": {\\n      \"symbol\": \"string - Cryptocurrency symbol (e.g., \\'BTC\\').\"\\n    }\\n  },\\n  {\\n    \"tool_name\": \"extract_urls\",\\n    \"description\": \"Extract URLs from a text.\",\\n    \"input_args\": {\\n      \"text\": \"string - Input text containing URLs.\"\\n    }\\n  },\\n  {\\n    \"tool_name\": \"send_email\",\\n    \"description\": \"Send an email to a recipient.\",\\n    \"input_args\": {\\n      \"to\": \"string - Recipient email address.\",\\n      \"subject\": \"string - Subject of the email.\",\\n      \"body\": \"string - Body of the email.\"\\n    }\\n  },\\n  {\\n    \"tool_name\": \"fetch_stock_price\",\\n    \"description\": \"Fetch the current stock price for a symbol. Available symbols: AAPL, GOOGL, MSFT, TSLA.\",\\n    \"input_args\": {\\n      \"symbol\": \"string - Stock ticker symbol (e.g., \\'AAPL\\').\"\\n    }\\n  },\\n  {\\n    \"tool_name\": \"filter_list\",\\n    \"description\": \"Filter a list based on a condition.\",\\n    \"input_args\": {\\n      \"items\": \"array - List of items to filter.\",\\n      \"condition\": \"string - Python expression as filter condition (e.g., \\'x > 10\\').\"\\n    }\\n  },\\n  {\\n    \"tool_name\": \"sort_list\",\\n    \"description\": \"Sort a list in ascending or descending order.\",\\n    \"input_args\": {\\n      \"items\": \"array - List of items to sort.\",\\n      \"descending\": \"boolean - Sort in descending order if true.\"\\n    }\\n  },\\n  {\\n    \"tool_name\": \"query_database\",\\n    \"description\": \"Run a SQL query on customer, sales, or inventory tables. Supported SQL operations - SELECT, WHERE, ORDER BY, LIMIT, COUNT, SUM, AVG, MAX, MIN. Table schemas: customers (id INTEGER PRIMARY KEY, name TEXT, email TEXT, city TEXT, country TEXT, join_date TEXT, total_spent REAL, status TEXT), sales (id INTEGER PRIMARY KEY, customer_id INTEGER, product_name TEXT, quantity INTEGER, unit_price REAL, total_amount REAL, sale_date TEXT, region TEXT), inventory (id INTEGER PRIMARY KEY, product_name TEXT, category TEXT, quantity_in_stock INTEGER, unit_price REAL, supplier TEXT, last_restocked TEXT, reorder_level INTEGER)\",\\n    \"input_args\": {\\n      \"query\": \"string - SQL query string.\",\\n      \"dataset\": \"string - Name of table. Possible values - \\'customers\\', \\'sales\\', \\'inventory\\'\"\\n    }\\n  },\\n  {\\n    \"tool_name\": \"unit_conversion\",\\n    \"description\": \"Convert a value between different units. Available units for conversion: Length - m (meters), ft (feet), km (kilometers), mi (miles); Weight - kg (kilograms), lb (pounds); Temperature - c (celsius), f (fahrenheit).\",\\n    \"input_args\": {\\n      \"value\": \"number - Value to convert.\",\\n      \"from_unit\": \"string - Unit of the value (e.g., \\'m\\', \\'ft\\', \\'kg\\', \\'lb\\', \\'c\\', \\'f\\').\",\\n      \"to_unit\": \"string - Target unit (e.g., \\'ft\\', \\'m\\', \\'lb\\', \\'kg\\', \\'f\\', \\'c\\').\"\\n    }\\n  },\\n  {\\n    \"tool_name\": \"get_weather\",\\n    \"description\": \"Get the current weather for a major city. Available cities: new york, london, tokyo, paris.\",\\n    \"input_args\": {\\n      \"city\": \"string - Name of the major city (e.g., \\'New York\\', \\'London\\', \\'Tokyo\\').\"\\n    }\\n  },\\n  {\\n    \"tool_name\": \"extract_phone_number\",\\n    \"description\": \"Extract phone numbers from text.\",\\n    \"input_args\": {\\n      \"text\": \"string - Input text containing phone numbers.\"\\n    }\\n  },\\n  {\\n    \"tool_name\": \"set_reminder\",\\n    \"description\": \"Set a reminder for a task.\",\\n    \"input_args\": {\\n      \"message\": \"string - Reminder message.\",\\n      \"datetime_str\": \"string - Datetime for the reminder in ISO format.\"\\n    }\\n  },\\n  {\\n    \"tool_name\": \"extract_hashtags\",\\n    \"description\": \"Extract hashtags from a text.\",\\n    \"input_args\": {\\n      \"text\": \"string - Input text containing hashtags.\"\\n    }\\n  },\\n  {\\n    \"tool_name\": \"get_current_datetime\",\\n    \"description\": \"Get the current date and time.\",\\n    \"input_args\": {}\\n  },\\n  {\\n    \"tool_name\": \"create_event\",\\n    \"description\": \"Create a calendar event.\",\\n    \"input_args\": {\\n      \"title\": \"string - Title of the event.\",\\n      \"datetime_str\": \"string - Datetime of the event in ISO format.\",\\n      \"location\": \"string - Location of the event.\"\\n    }\\n  },\\n  {\\n    \"tool_name\": \"compute_std_dev\",\\n    \"description\": \"Compute the standard deviation of a list of numbers.\",\\n    \"input_args\": {\\n      \"numbers\": \"array - List of numbers.\"\\n    }\\n  },\\n  {\\n    \"tool_name\": \"web_search\",\\n    \"description\": \"Perform a web search for a query.\",\\n    \"input_args\": {\\n      \"query\": \"string - Search query string.\"\\n    }\\n  },\\n  {\\n    \"tool_name\": \"send_slack_message\",\\n    \"description\": \"Send a message to a Slack channel.\",\\n    \"input_args\": {\\n      \"channel\": \"string - Slack channel name or ID.\",\\n      \"message\": \"string - Message content.\"\\n    }\\n  },\\n  {\\n    \"tool_name\": \"post_to_x\",\\n    \"description\": \"Post a message to X (Twitter).\",\\n    \"input_args\": {\\n      \"message\": \"string - Content of the post.\"\\n    }\\n  },\\n  {\\n    \"tool_name\": \"convert_time_zone\",\\n    \"description\": \"Convert time between time zones.\",\\n    \"input_args\": {\\n      \"datetime_str\": \"string - Datetime string in ISO format.\",\\n      \"from_timezone\": \"string - Original timezone (e.g., \\'UTC\\').\",\\n      \"to_timezone\": \"string - Target timezone (e.g., \\'America/New_York\\').\"\\n    }\\n  },\\n  {\\n    \"tool_name\": \"compute_min_max\",\\n    \"description\": \"Compute the minimum and maximum from a list of numbers.\",\\n    \"input_args\": {\\n      \"numbers\": \"array - List of numbers.\"\\n    }\\n  },\\n  {\\n    \"tool_name\": \"slugify_text\",\\n    \"description\": \"Convert text to a URL-friendly slug.\",\\n    \"input_args\": {\\n      \"text\": \"string - Input text to slugify.\"\\n    }\\n  },\\n  {\\n    \"tool_name\": \"reverse_list\",\\n    \"description\": \"Reverse the order of a list.\",\\n    \"input_args\": {\\n      \"items\": \"array - List of items to reverse.\"\\n    }\\n  },\\n  {\\n    \"tool_name\": \"word_count\",\\n    \"description\": \"Count the number of words in a text.\",\\n    \"input_args\": {\\n      \"text\": \"string - Input text.\"\\n    }\\n  },\\n  {\\n    \"tool_name\": \"calculator\",\\n    \"description\": \"Perform basic arithmetic calculations.\",\\n    \"input_args\": {\\n      \"expression\": \"string - Arithmetic expression to evaluate.\"\\n    }\\n  },\\n  {\\n    \"tool_name\": \"validate_email\",\\n    \"description\": \"Validate the format of an email address.\",\\n    \"input_args\": {\\n      \"email\": \"string - Email address to validate.\"\\n    }\\n  },\\n  {\\n    \"tool_name\": \"get_weekday_from_date\",\\n    \"description\": \"Get the weekday from a given date in YYYY-MM-DD format.\",\\n    \"input_args\": {\\n      \"date\": \"string - Date in YYYY-MM-DD format.\"\\n    }\\n  }\\n]\\n</tools>'},\n",
       " {'role': 'user',\n",
       "  'content': 'Hi, can u please slugify this title:  \"New Product Launch!!! Exciting Times@2024\" Thanks'},\n",
       " {'role': 'assistant',\n",
       "  'content': 'You want to convert the title \"New Product Launch!!! Exciting Times@2024\" into a URL-friendly slug.\\nI will use the slugify_text tool to generate the slug.\\n<tool_call>\\n{\\n  \"tool_name\": \"slugify_text\",\\n  \"args\": {\\n    \"text\": \"New Product Launch!!! Exciting Times@2024\"\\n  }\\n}\\n</tool_call>'},\n",
       " {'role': 'user',\n",
       "  'content': '<tool_result>\\nnew-product-launch-exciting-times2024\\n</tool_result>'},\n",
       " {'role': 'assistant',\n",
       "  'content': '<final_answer>\\nThe slug for \"New Product Launch!!! Exciting Times@2024\" is \"new-product-launch-exciting-2024\".\\n</final_answer>'}]"
      ]
     },
     "execution_count": 8,
     "metadata": {},
     "output_type": "execute_result"
    }
   ],
   "source": [
    "# Row 595\n",
    "new_final_response = \"\"\"<final_answer>\n",
    "The slug for \"New Product Launch!!! Exciting Times@2024\" is \"new-product-launch-exciting-2024\".\n",
    "</final_answer>\"\"\"\n",
    "replace_trace_messages(df, 595, [{'index': 4, 'role': 'assistant', 'content': new_final_response},])"
   ]
  },
  {
   "cell_type": "markdown",
   "id": "f6678bb7-6faa-480e-b613-6489836c4b01",
   "metadata": {
    "scrolled": true
   },
   "source": [
    "#### drop rows: 322, 424, 438"
   ]
  },
  {
   "cell_type": "code",
   "execution_count": 9,
   "id": "f4fa847f-9142-4d64-9666-5a426cdf8a2f",
   "metadata": {},
   "outputs": [
    {
     "name": "stdout",
     "output_type": "stream",
     "text": [
      "600\n",
      "597\n"
     ]
    }
   ],
   "source": [
    "print(len(df))\n",
    "df = df.drop(index=[322, 424, 438])\n",
    "print(len(df))"
   ]
  },
  {
   "cell_type": "markdown",
   "id": "dc6afe3d-cb16-42fb-8536-4bcbf4765ccf",
   "metadata": {},
   "source": [
    "### train-val-test split"
   ]
  },
  {
   "cell_type": "code",
   "execution_count": 10,
   "id": "8a9c16b4-d5fe-4ba6-b6a3-bdfa0e2f9222",
   "metadata": {},
   "outputs": [
    {
     "name": "stdout",
     "output_type": "stream",
     "text": [
      "Training set: 477 samples (79.9%)\n",
      "Validation set: 60 samples (10.1%)\n",
      "Test set: 60 samples (10.1%)\n"
     ]
    }
   ],
   "source": [
    "# Shuffle the dataset\n",
    "df_shuffled = df.sample(frac=1, random_state=42).reset_index(drop=True)\n",
    "\n",
    "# Split into train, validation, and test sets (e.g., 80% train, 10% validation, 10% test)\n",
    "train_frac = 0.8\n",
    "valid_frac = 0.1\n",
    "test_frac = 0.1\n",
    "\n",
    "# define train and validation size\n",
    "n_samples = len(df_shuffled)\n",
    "train_size = int(train_frac * n_samples)\n",
    "valid_size = int(valid_frac * n_samples) + 1\n",
    "\n",
    "# create train, validation, and test datasets\n",
    "df_train = df_shuffled[:train_size]\n",
    "df_valid = df_shuffled[train_size:train_size + valid_size]\n",
    "df_test = df_shuffled[train_size + valid_size:]\n",
    "\n",
    "print(f\"Training set: {len(df_train)} samples ({len(df_train)/n_samples:.1%})\")\n",
    "print(f\"Validation set: {len(df_valid)} samples ({len(df_valid)/n_samples:.1%})\")\n",
    "print(f\"Test set: {len(df_test)} samples ({len(df_test)/n_samples:.1%})\")"
   ]
  },
  {
   "cell_type": "markdown",
   "id": "4b7722b4-34a5-4fdb-8c6e-4b6d6017cb85",
   "metadata": {},
   "source": [
    "### upload to HF hub"
   ]
  },
  {
   "cell_type": "code",
   "execution_count": 11,
   "id": "aa3f3032-756d-43c3-8b40-0f9258c97e65",
   "metadata": {},
   "outputs": [],
   "source": [
    "# Convert the pandas DataFrames back to Hugging Face Datasets\n",
    "train_ds = Dataset.from_pandas(df_train)\n",
    "valid_ds = Dataset.from_pandas(df_valid)\n",
    "test_ds = Dataset.from_pandas(df_test)\n",
    "\n",
    "# Combine into a DatasetDict\n",
    "dataset_dict = DatasetDict({\n",
    "    'train': train_ds,\n",
    "    'validation': valid_ds,\n",
    "    'test': test_ds\n",
    "})"
   ]
  },
  {
   "cell_type": "code",
   "execution_count": 12,
   "id": "1b5c8a7c-38be-4fba-b287-cb6360fe830c",
   "metadata": {},
   "outputs": [
    {
     "data": {
      "application/vnd.jupyter.widget-view+json": {
       "model_id": "41d861acd8854695b29fd80900910317",
       "version_major": 2,
       "version_minor": 0
      },
      "text/plain": [
       "Uploading the dataset shards:   0%|          | 0/1 [00:00<?, ? shards/s]"
      ]
     },
     "metadata": {},
     "output_type": "display_data"
    },
    {
     "data": {
      "application/vnd.jupyter.widget-view+json": {
       "model_id": "9b400d3007784b9cbc880b296b837bb2",
       "version_major": 2,
       "version_minor": 0
      },
      "text/plain": [
       "Creating parquet from Arrow format:   0%|          | 0/1 [00:00<?, ?ba/s]"
      ]
     },
     "metadata": {},
     "output_type": "display_data"
    },
    {
     "data": {
      "application/vnd.jupyter.widget-view+json": {
       "model_id": "6071e7d8073344fba7a9bc63c3126cae",
       "version_major": 2,
       "version_minor": 0
      },
      "text/plain": [
       "Uploading the dataset shards:   0%|          | 0/1 [00:00<?, ? shards/s]"
      ]
     },
     "metadata": {},
     "output_type": "display_data"
    },
    {
     "data": {
      "application/vnd.jupyter.widget-view+json": {
       "model_id": "ab6bd1cf2dc4463d82baffa213bd1ef6",
       "version_major": 2,
       "version_minor": 0
      },
      "text/plain": [
       "Creating parquet from Arrow format:   0%|          | 0/1 [00:00<?, ?ba/s]"
      ]
     },
     "metadata": {},
     "output_type": "display_data"
    },
    {
     "data": {
      "application/vnd.jupyter.widget-view+json": {
       "model_id": "6f0c359402944712a3aa7e98206a0667",
       "version_major": 2,
       "version_minor": 0
      },
      "text/plain": [
       "Uploading the dataset shards:   0%|          | 0/1 [00:00<?, ? shards/s]"
      ]
     },
     "metadata": {},
     "output_type": "display_data"
    },
    {
     "data": {
      "application/vnd.jupyter.widget-view+json": {
       "model_id": "b8ac1799004c44579fbd47b75e072c76",
       "version_major": 2,
       "version_minor": 0
      },
      "text/plain": [
       "Creating parquet from Arrow format:   0%|          | 0/1 [00:00<?, ?ba/s]"
      ]
     },
     "metadata": {},
     "output_type": "display_data"
    },
    {
     "data": {
      "text/plain": [
       "CommitInfo(commit_url='https://huggingface.co/datasets/shawhin/tool-use-finetuning/commit/50b9e59e473862e81845c76e6511c56ede19f887', commit_message='Upload dataset', commit_description='', oid='50b9e59e473862e81845c76e6511c56ede19f887', pr_url=None, repo_url=RepoUrl('https://huggingface.co/datasets/shawhin/tool-use-finetuning', endpoint='https://huggingface.co', repo_type='dataset', repo_id='shawhin/tool-use-finetuning'), pr_revision=None, pr_num=None)"
      ]
     },
     "execution_count": 12,
     "metadata": {},
     "output_type": "execute_result"
    }
   ],
   "source": [
    "# push data to hub\n",
    "dataset_dict.push_to_hub(\"shawhin/tool-use-finetuning\")"
   ]
  }
 ],
 "metadata": {
  "kernelspec": {
   "display_name": "Python 3 (ipykernel)",
   "language": "python",
   "name": "python3"
  },
  "language_info": {
   "codemirror_mode": {
    "name": "ipython",
    "version": 3
   },
   "file_extension": ".py",
   "mimetype": "text/x-python",
   "name": "python",
   "nbconvert_exporter": "python",
   "pygments_lexer": "ipython3",
   "version": "3.12.11"
  }
 },
 "nbformat": 4,
 "nbformat_minor": 5
}
